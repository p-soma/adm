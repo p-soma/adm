{
 "cells": [
  {
   "cell_type": "code",
   "execution_count": 1,
   "metadata": {},
   "outputs": [],
   "source": [
    "import pandas as pd\n",
    "import adm_load as load\n",
    "import adm_preproc as pre"
   ]
  },
  {
   "cell_type": "code",
   "execution_count": 2,
   "metadata": {},
   "outputs": [
    {
     "name": "stderr",
     "output_type": "stream",
     "text": [
      "/Users/paulsoma/anaconda3/envs/tensorflow/lib/python3.6/site-packages/IPython/core/interactiveshell.py:2901: DtypeWarning: Columns (7) have mixed types. Specify dtype option on import or set low_memory=False.\n",
      "  if self.run_code(code, result):\n"
     ]
    }
   ],
   "source": [
    "df = load.transactions()"
   ]
  },
  {
   "cell_type": "code",
   "execution_count": 6,
   "metadata": {},
   "outputs": [],
   "source": [
    "d = dict(df.dtypes)"
   ]
  },
  {
   "cell_type": "code",
   "execution_count": 12,
   "metadata": {},
   "outputs": [],
   "source": [
    "sus = load.get_sus(df)"
   ]
  },
  {
   "cell_type": "code",
   "execution_count": 14,
   "metadata": {},
   "outputs": [
    {
     "ename": "AttributeError",
     "evalue": "'NoneType' object has no attribute 'describe'",
     "output_type": "error",
     "traceback": [
      "\u001b[0;31m---------------------------------------------------------------------------\u001b[0m",
      "\u001b[0;31mAttributeError\u001b[0m                            Traceback (most recent call last)",
      "\u001b[0;32m<ipython-input-14-39b47c659193>\u001b[0m in \u001b[0;36m<module>\u001b[0;34m()\u001b[0m\n\u001b[0;32m----> 1\u001b[0;31m \u001b[0msus\u001b[0m\u001b[0;34m.\u001b[0m\u001b[0mdescribe\u001b[0m\u001b[0;34m\u001b[0m\u001b[0m\n\u001b[0m",
      "\u001b[0;31mAttributeError\u001b[0m: 'NoneType' object has no attribute 'describe'"
     ]
    }
   ],
   "source": [
    "sus.describe"
   ]
  },
  {
   "cell_type": "code",
   "execution_count": 16,
   "metadata": {},
   "outputs": [
    {
     "data": {
      "text/plain": [
       "(90017, 39)"
      ]
     },
     "execution_count": 16,
     "metadata": {},
     "output_type": "execute_result"
    }
   ],
   "source": [
    "df.shape"
   ]
  },
  {
   "cell_type": "code",
   "execution_count": 35,
   "metadata": {},
   "outputs": [],
   "source": [
    "cur = df.loc[:,['DEVICETYPE']].values"
   ]
  },
  {
   "cell_type": "code",
   "execution_count": 36,
   "metadata": {},
   "outputs": [
    {
     "data": {
      "text/plain": [
       "0        1\n",
       "1        1\n",
       "2        1\n",
       "3        1\n",
       "4        1\n",
       "5        1\n",
       "6        1\n",
       "7        1\n",
       "8        1\n",
       "9        1\n",
       "10       1\n",
       "11       1\n",
       "12       1\n",
       "13       1\n",
       "14       1\n",
       "15       1\n",
       "16       1\n",
       "17       1\n",
       "18       1\n",
       "19       1\n",
       "20       1\n",
       "21       1\n",
       "22       1\n",
       "23       1\n",
       "24       1\n",
       "25       1\n",
       "26       1\n",
       "27       1\n",
       "28       1\n",
       "29       1\n",
       "        ..\n",
       "89987    1\n",
       "89988    1\n",
       "89989    1\n",
       "89990    1\n",
       "89991    1\n",
       "89992    1\n",
       "89993    1\n",
       "89994    1\n",
       "89995    1\n",
       "89996    1\n",
       "89997    1\n",
       "89998    1\n",
       "89999    1\n",
       "90000    1\n",
       "90001    1\n",
       "90002    1\n",
       "90003    1\n",
       "90004    1\n",
       "90005    1\n",
       "90006    1\n",
       "90007    1\n",
       "90008    1\n",
       "90009    1\n",
       "90010    1\n",
       "90011    1\n",
       "90012    1\n",
       "90013    1\n",
       "90014    1\n",
       "90015    1\n",
       "90016    1\n",
       "Length: 90017, dtype: int64"
      ]
     },
     "execution_count": 36,
     "metadata": {},
     "output_type": "execute_result"
    }
   ],
   "source": [
    "s= pd.Series(cur.flatten())\n",
    "s"
   ]
  },
  {
   "cell_type": "code",
   "execution_count": 67,
   "metadata": {},
   "outputs": [],
   "source": [
    "drop = True if s.unique().shape[0] == 1 else False"
   ]
  },
  {
   "cell_type": "code",
   "execution_count": 68,
   "metadata": {},
   "outputs": [
    {
     "data": {
      "text/plain": [
       "True"
      ]
     },
     "execution_count": 68,
     "metadata": {},
     "output_type": "execute_result"
    }
   ],
   "source": [
    "drop"
   ]
  },
  {
   "cell_type": "code",
   "execution_count": 22,
   "metadata": {},
   "outputs": [],
   "source": [
    "cols = df.columns"
   ]
  },
  {
   "cell_type": "code",
   "execution_count": 23,
   "metadata": {},
   "outputs": [
    {
     "data": {
      "text/plain": [
       "['DEVICETYPE', 'ROUTINGCODE', 'CURRENCYINDEX', 'CCAFEEAMOUNT', 'ICAFEEAMOUNT']"
      ]
     },
     "execution_count": 23,
     "metadata": {},
     "output_type": "execute_result"
    }
   ],
   "source": [
    "to_drop = []\n",
    "for c in cols:\n",
    "    cur = df.loc[:,[c]].values\n",
    "    s = pd.Series(cur.flatten())\n",
    "    if s.nunique() == 1:\n",
    "        to_drop.append(c)\n",
    "\n",
    "to_drop"
   ]
  },
  {
   "cell_type": "code",
   "execution_count": 28,
   "metadata": {},
   "outputs": [
    {
     "data": {
      "text/plain": [
       "Index(['PROCESSORACCOUNT', 'OURACCOUNT', 'POSTAMOUNT', 'POSTSUCCESS',\n",
       "       'HOLDACTION', 'DUPLICATEFLAG', 'TRANSACTIONCODE', 'RESPONSECODEIN',\n",
       "       'RESPONSECODEOUT', 'AUTHIDRESPONSE', 'TRACENUMBER', 'REFERENCENUMBER',\n",
       "       'LOCALTRANDATE', 'LOCALTRANTIME', 'DEVICETYPE', 'ROUTINGCODE',\n",
       "       'REVERSALFLAG', 'ADJUSTMENTFLAG', 'ORIGINALAMOUNT', 'TRANSUBTYPE',\n",
       "       'OURPREAUTHCODE', 'OURTRANCODE', 'OURTRANSMISSIONDATE',\n",
       "       'OURTRANSMISSIONTIME', 'OURRESPONSECODE', 'FORCEPOST', 'CURRENCYINDEX',\n",
       "       'CURRENCYAMOUNT', 'ISAFEEAMOUNT', 'CCAFEEAMOUNT', 'ICAFEEAMOUNT',\n",
       "       'CASHBACKAMOUNT', 'CARDACCEPTORCITY', 'CARDACCEPTORCOUNTRY',\n",
       "       'CARDACCEPTORIDCODE', 'CARDACCEPTORNAME', 'CARDACCEPTORSTATE',\n",
       "       'CARDACCEPTORSTREET', 'FraudFlag'],\n",
       "      dtype='object')"
      ]
     },
     "execution_count": 28,
     "metadata": {},
     "output_type": "execute_result"
    }
   ],
   "source": [
    "df.drop(to_drop, axis=1)\n",
    "df.columns"
   ]
  },
  {
   "cell_type": "code",
   "execution_count": 14,
   "metadata": {},
   "outputs": [
    {
     "data": {
      "text/plain": [
       "Index(['PROCESSORACCOUNT', 'OURACCOUNT', 'POSTAMOUNT', 'POSTSUCCESS',\n",
       "       'HOLDACTION', 'DUPLICATEFLAG', 'TRANSACTIONCODE', 'RESPONSECODEIN',\n",
       "       'RESPONSECODEOUT', 'AUTHIDRESPONSE', 'TRACENUMBER', 'REFERENCENUMBER',\n",
       "       'LOCALTRANDATE', 'LOCALTRANTIME', 'REVERSALFLAG', 'ADJUSTMENTFLAG',\n",
       "       'ORIGINALAMOUNT', 'TRANSUBTYPE', 'OURPREAUTHCODE', 'OURTRANCODE',\n",
       "       'OURTRANSMISSIONDATE', 'OURTRANSMISSIONTIME', 'OURRESPONSECODE',\n",
       "       'FORCEPOST', 'CURRENCYAMOUNT', 'ISAFEEAMOUNT', 'CASHBACKAMOUNT',\n",
       "       'CARDACCEPTORCITY', 'CARDACCEPTORCOUNTRY', 'CARDACCEPTORIDCODE',\n",
       "       'CARDACCEPTORNAME', 'CARDACCEPTORSTATE', 'CARDACCEPTORSTREET',\n",
       "       'FraudFlag'],\n",
       "      dtype='object')"
      ]
     },
     "execution_count": 14,
     "metadata": {},
     "output_type": "execute_result"
    }
   ],
   "source": [
    "df_.columns"
   ]
  },
  {
   "cell_type": "code",
   "execution_count": 16,
   "metadata": {},
   "outputs": [
    {
     "data": {
      "text/plain": [
       "Index(['PROCESSORACCOUNT', 'OURACCOUNT', 'POSTAMOUNT', 'POSTSUCCESS',\n",
       "       'HOLDACTION', 'DUPLICATEFLAG', 'TRANSACTIONCODE', 'RESPONSECODEIN',\n",
       "       'RESPONSECODEOUT', 'AUTHIDRESPONSE', 'TRACENUMBER', 'REFERENCENUMBER',\n",
       "       'LOCALTRANDATE', 'LOCALTRANTIME', 'DEVICETYPE', 'ROUTINGCODE',\n",
       "       'REVERSALFLAG', 'ADJUSTMENTFLAG', 'ORIGINALAMOUNT', 'TRANSUBTYPE',\n",
       "       'OURPREAUTHCODE', 'OURTRANCODE', 'OURTRANSMISSIONDATE',\n",
       "       'OURTRANSMISSIONTIME', 'OURRESPONSECODE', 'FORCEPOST', 'CURRENCYINDEX',\n",
       "       'CURRENCYAMOUNT', 'ISAFEEAMOUNT', 'CCAFEEAMOUNT', 'ICAFEEAMOUNT',\n",
       "       'CASHBACKAMOUNT', 'CARDACCEPTORCITY', 'CARDACCEPTORCOUNTRY',\n",
       "       'CARDACCEPTORIDCODE', 'CARDACCEPTORNAME', 'CARDACCEPTORSTATE',\n",
       "       'CARDACCEPTORSTREET', 'FraudFlag'],\n",
       "      dtype='object')"
      ]
     },
     "execution_count": 16,
     "metadata": {},
     "output_type": "execute_result"
    }
   ],
   "source": [
    "df.columns"
   ]
  },
  {
   "cell_type": "code",
   "execution_count": 3,
   "metadata": {},
   "outputs": [],
   "source": [
    "d = pre.drop_same(df)"
   ]
  },
  {
   "cell_type": "code",
   "execution_count": 4,
   "metadata": {},
   "outputs": [
    {
     "data": {
      "text/plain": [
       "(90017, 34)"
      ]
     },
     "execution_count": 4,
     "metadata": {},
     "output_type": "execute_result"
    }
   ],
   "source": [
    "d.shape"
   ]
  },
  {
   "cell_type": "code",
   "execution_count": null,
   "metadata": {},
   "outputs": [],
   "source": []
  }
 ],
 "metadata": {
  "kernelspec": {
   "display_name": "Python 3",
   "language": "python",
   "name": "python3"
  },
  "language_info": {
   "codemirror_mode": {
    "name": "ipython",
    "version": 3
   },
   "file_extension": ".py",
   "mimetype": "text/x-python",
   "name": "python",
   "nbconvert_exporter": "python",
   "pygments_lexer": "ipython3",
   "version": "3.6.6"
  }
 },
 "nbformat": 4,
 "nbformat_minor": 2
}
